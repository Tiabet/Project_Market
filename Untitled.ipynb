{
 "cells": [
  {
   "cell_type": "code",
   "execution_count": null,
   "id": "e14ca931-d1f0-4ddc-b90d-6fb77f4f09da",
   "metadata": {},
   "outputs": [],
   "source": [
    "#!/usr/bin/env python\n",
    "# coding: utf-8\n",
    "\n",
    "# <a href=\"https://colab.research.google.com/github/Tiabet/Project_Market/blob/master/text_preprocessing_pipeline.ipynb\" target=\"_parent\"><img src=\"https://colab.research.google.com/assets/colab-badge.svg\" alt=\"Open In Colab\"/></a>\n",
    "\n",
    "\n",
    "#사용법 : python text_preprocessing_pipeline.py input.tsv\n",
    "#결과가 input 파일 이름_preprocessed.tsv 형식으로 저장됩니다.\n",
    "\n",
    "import unicodedata\n",
    "import pandas as pd\n",
    "from hanspell import spell_checker\n",
    "import re\n",
    "import os\n",
    "import sys\n",
    "import argparse\n",
    "from sklearn.pipeline import Pipeline\n",
    "from sklearn.base import BaseEstimator, TransformerMixin\n",
    "\n",
    "def normalize_unicode(text):\n",
    "    return unicodedata.normalize('NFKC', text)\n",
    "\n",
    "def correct_spelling(text):\n",
    "    spelled_sent = spell_checker.check(text)\n",
    "    return spelled_sent.checked\n",
    "\n",
    "def apply_regex(text): \n",
    "    text = re.sub(r'[^ 가-힣a-zA-Z\\(\\):]','',text)\n",
    "    text = re.sub(r'[a-zA-Z]{1,2}', '', text)\n",
    "    text = re.sub(r':\\s?[\\)D]|:\\s?\\(', '', text)\n",
    "    return text\n",
    "\n",
    "class NormalizeUnicodeTransformer(BaseEstimator, TransformerMixin):\n",
    "    def fit(self, X, y=None):\n",
    "        return self\n",
    "\n",
    "    def transform(self, X):\n",
    "        print(\"Normalizing Unicode\")\n",
    "        return X.apply(normalize_unicode)\n",
    "\n",
    "class CorrectSpellingTransformer(BaseEstimator, TransformerMixin):\n",
    "    def fit(self, X, y=None):\n",
    "        return self\n",
    "\n",
    "    def transform(self, X):\n",
    "        print(\"Correcting Spelling\")\n",
    "        return X.apply(correct_spelling)\n",
    "\n",
    "class ApplyRegexTransformer(BaseEstimator, TransformerMixin):\n",
    "    def fit(self, X, y=None):\n",
    "        return self\n",
    "\n",
    "    def transform(self, X):\n",
    "        print(\"Applying Regex\")\n",
    "        return X.apply(apply_regex)\n",
    "\n",
    "def preprocess_file(input_filename, output_filename):\n",
    "    df = pd.read_csv(input_filename, sep='\\t')\n",
    "    \n",
    "    preprocessing_pipeline = Pipeline([\n",
    "        ('normalize_unicode', NormalizeUnicodeTransformer()),\n",
    "        ('correct_spelling', CorrectSpellingTransformer()),\n",
    "        ('apply_regex', ApplyRegexTransformer()),\n",
    "        ('correct_spelling_2', CorrectSpellingTransformer())\n",
    "    ])\n",
    "\n",
    "    df_preprocessed = preprocessing_pipeline.fit_transform(df['review'])\n",
    "    df['review'] = df_preprocessed\n",
    "    df.to_csv(output_filename, sep='\\t', index=False)  \n",
    "\n",
    "if __name__ == \"__main__\":\n",
    "    parser = argparse.ArgumentParser(description=\"텍스트 데이터 전처리(띄어쓰기, 불필요언어 제거 등)\")\n",
    "    parser.add_argument(\"input_file\", help=\"전처리할 파일명을 입력하세요.\", type = str)\n",
    "    \n",
    "    args = parser.parse_args()\n",
    "    \n",
    "    input_filename = args.input_file\n",
    "    base_filename, extension = os.path.splitext(input_filename)\n",
    "    output_filename = base_filename + '_preprocessed' + extension\n",
    "    \n",
    "    preprocess_file(input_filename, output_filename)"
   ]
  },
  {
   "cell_type": "code",
   "execution_count": 3,
   "id": "f8de313c-15bc-4176-84ce-70e2007401a7",
   "metadata": {},
   "outputs": [
    {
     "data": {
      "text/plain": [
       "'1.1'"
      ]
     },
     "execution_count": 3,
     "metadata": {},
     "output_type": "execute_result"
    }
   ],
   "source": [
    "import hanspell\n",
    "\n",
    "hanspell.__version__"
   ]
  },
  {
   "cell_type": "code",
   "execution_count": null,
   "id": "217cd22a-32a0-4367-9525-131b015d9e36",
   "metadata": {},
   "outputs": [],
   "source": []
  }
 ],
 "metadata": {
  "kernelspec": {
   "display_name": "Python 3 (ipykernel)",
   "language": "python",
   "name": "python3"
  },
  "language_info": {
   "codemirror_mode": {
    "name": "ipython",
    "version": 3
   },
   "file_extension": ".py",
   "mimetype": "text/x-python",
   "name": "python",
   "nbconvert_exporter": "python",
   "pygments_lexer": "ipython3",
   "version": "3.9.13"
  }
 },
 "nbformat": 4,
 "nbformat_minor": 5
}
