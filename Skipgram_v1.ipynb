{
 "cells": [
  {
   "cell_type": "markdown",
   "metadata": {
    "colab_type": "text",
    "id": "view-in-github"
   },
   "source": [
    "<a href=\"https://colab.research.google.com/github/Tiabet/Project_Market/blob/master/Skipgram_v1.ipynb\" target=\"_parent\"><img src=\"https://colab.research.google.com/assets/colab-badge.svg\" alt=\"Open In Colab\"/></a>"
   ]
  },
  {
   "cell_type": "code",
   "execution_count": null,
   "metadata": {
    "colab": {
     "base_uri": "https://localhost:8080/"
    },
    "id": "ey23ur3aUqBx",
    "outputId": "fafde08d-8731-446f-a7a2-edce8949192a"
   },
   "outputs": [],
   "source": [
    "pip install konlpy"
   ]
  },
  {
   "cell_type": "code",
   "execution_count": null,
   "metadata": {
    "colab": {
     "base_uri": "https://localhost:8080/",
     "height": 424
    },
    "id": "FnovnBdAgUpF",
    "outputId": "6453a132-9178-4d35-e5bd-c8779cb88151"
   },
   "outputs": [],
   "source": [
    "import csv\n",
    "import pandas as pd\n",
    "\n",
    "# Replace 'data.tsv' with the path to your TSV file\n",
    "tsv_file = '/content/drive/MyDrive/강이지_옷/강아지옷.tsv'\n",
    "\n",
    "# Initialize an empty list to store the data from the TSV file\n",
    "data = []\n",
    "\n",
    "# Read the TSV file and store its content in the 'data' list\n",
    "with open(tsv_file, 'r', newline='', encoding='utf-8') as file:\n",
    "    reader = csv.reader(file, delimiter='\\t')\n",
    "    for row in reader:\n",
    "        data.append(row)\n",
    "\n",
    "df = pd.DataFrame(data[1:], columns=data[0])\n",
    "\n",
    "df = df[:len(df)//100]\n",
    "\n",
    "df"
   ]
  },
  {
   "cell_type": "code",
   "execution_count": null,
   "metadata": {
    "colab": {
     "base_uri": "https://localhost:8080/",
     "height": 196
    },
    "id": "pX5r0ZLJmkFS",
    "outputId": "5448c12d-f633-483f-e824-2e211655afc3"
   },
   "outputs": [],
   "source": [
    "# 말뭉치 생성\n",
    "corpus = \"-\".join(df['review'].tolist())\n",
    "corpus"
   ]
  },
  {
   "cell_type": "code",
   "execution_count": null,
   "metadata": {
    "id": "4NlmHjM3zACx"
   },
   "outputs": [],
   "source": [
    "# 정규 표현식 함수 정의\n",
    "\n",
    "import re\n",
    "\n",
    "def apply_regular_expression(text):\n",
    "    hangul = re.compile('[^ ㄱ-ㅣ 가-힣 -]')  # 한글 추출 규칙: 띄어 쓰기(1 개)를 포함한 한글\n",
    "    result = hangul.sub('', text)  # 위에 설정한 \"hangul\"규칙을 \"text\"에 적용\n",
    "    return result"
   ]
  },
  {
   "cell_type": "code",
   "execution_count": null,
   "metadata": {
    "colab": {
     "base_uri": "https://localhost:8080/",
     "height": 196
    },
    "id": "ncA5RZ0mzKSO",
    "outputId": "bc43bc16-7614-4c6b-b272-3999755c2617"
   },
   "outputs": [],
   "source": [
    "corpus = apply_regular_expression(corpus)\n",
    "\n",
    "corpus"
   ]
  },
  {
   "cell_type": "code",
   "execution_count": null,
   "metadata": {
    "colab": {
     "base_uri": "https://localhost:8080/"
    },
    "id": "1zrrSTPPgUA8",
    "outputId": "b9bf8c01-e917-4650-9fb4-7df91242b633"
   },
   "outputs": [],
   "source": [
    "stop_words = pd.read_csv(\"https://raw.githubusercontent.com/yoonkt200/FastCampusDataset/master/korean_stopwords.txt\").values.tolist()\n",
    "stop_words[:10]"
   ]
  },
  {
   "cell_type": "code",
   "execution_count": null,
   "metadata": {
    "id": "n6tbIc8HM_V0"
   },
   "outputs": [],
   "source": [
    "import numpy as np\n",
    "import string\n",
    "from nltk.corpus import stopwords\n",
    "\n",
    "def softmax(x):\n",
    "    \"\"\"Compute softmax values for each sets of scores in x.\"\"\"\n",
    "    e_x = np.exp(x - np.max(x))\n",
    "    return e_x / e_x.sum()\n",
    "\n",
    "class word2vec(object):\n",
    "    def __init__(self):\n",
    "        self.N = 10\n",
    "        self.X_train = []\n",
    "        self.y_train = []\n",
    "        self.window_size = 2\n",
    "        self.alpha = 0.001\n",
    "        self.words = []\n",
    "        self.word_index = {}\n",
    "\n",
    "    def initialize(self,V,data):\n",
    "        self.V = V\n",
    "        self.W = np.random.uniform(-0.8, 0.8, (self.V, self.N))\n",
    "        self.W1 = np.random.uniform(-0.8, 0.8, (self.N, self.V))\n",
    "\n",
    "        self.words = data\n",
    "        for i in range(len(data)):\n",
    "            self.word_index[data[i]] = i\n",
    "\n",
    "\n",
    "    def feed_forward(self,X):\n",
    "        self.h = np.dot(self.W.T,X).reshape(self.N,1)\n",
    "        self.u = np.dot(self.W1.T,self.h)\n",
    "        #print(self.u)\n",
    "        self.y = softmax(self.u)\n",
    "        return self.y\n",
    "\n",
    "    def backpropagate(self,x,t):\n",
    "        e = self.y - np.asarray(t).reshape(self.V,1)\n",
    "        # e.shape is V x 1\n",
    "        dLdW1 = np.dot(self.h,e.T)\n",
    "        X = np.array(x).reshape(self.V,1)\n",
    "        dLdW = np.dot(X, np.dot(self.W1,e).T)\n",
    "        self.W1 = self.W1 - self.alpha*dLdW1\n",
    "        self.W = self.W - self.alpha*dLdW\n",
    "\n",
    "    def train(self,epochs):\n",
    "        for x in range(1,epochs):\n",
    "            self.loss = 0\n",
    "            for j in range(len(self.X_train)):\n",
    "                self.feed_forward(self.X_train[j])\n",
    "                self.backpropagate(self.X_train[j],self.y_train[j])\n",
    "                C = 0\n",
    "                for m in range(self.V):\n",
    "                    if(self.y_train[j][m]):\n",
    "                        self.loss += -1*self.u[m][0]\n",
    "                        C += 1\n",
    "                self.loss += C*np.log(np.sum(np.exp(self.u)))\n",
    "            print(\"epoch \",x, \" loss = \",self.loss)\n",
    "            self.alpha *= 1/( (1+self.alpha*x) )\n",
    "\n",
    "    def predict(self,word,number_of_predictions):\n",
    "        if word in self.words:\n",
    "            index = self.word_index[word]\n",
    "            X = [0 for i in range(self.V)]\n",
    "            X[index] = 1\n",
    "            prediction = self.feed_forward(X)\n",
    "            output = {}\n",
    "            for i in range(self.V):\n",
    "                output[prediction[i][0]] = i\n",
    "\n",
    "            top_context_words = []\n",
    "            for k in sorted(output,reverse=True):\n",
    "                top_context_words.append(self.words[output[k]])\n",
    "                if(len(top_context_words)>=number_of_predictions):\n",
    "                    break\n",
    "\n",
    "            return top_context_words\n",
    "        else:\n",
    "            print(\"Word not found in dictionary\")"
   ]
  },
  {
   "cell_type": "code",
   "execution_count": null,
   "metadata": {
    "id": "XUz0og2iNRCo"
   },
   "outputs": [],
   "source": [
    "from konlpy.tag import Okt\n",
    "import string\n",
    "\n",
    "def preprocessing(corpus):\n",
    "    okt = Okt()\n",
    "    training_data = []\n",
    "    sentences = corpus.split(\"-\")\n",
    "\n",
    "    for i in range(len(sentences)):\n",
    "        sentences[i] = sentences[i].strip()\n",
    "        words_and_tags = okt.pos(sentences[i])\n",
    "\n",
    "        filtered_words = [word for word, tag in words_and_tags\n",
    "                          if tag in ['Noun', 'Verb', 'Adjective']\n",
    "                          and word not in stop_words]\n",
    "\n",
    "        x = [word.strip(string.punctuation) for word in filtered_words]\n",
    "        x = [word for word in filtered_words if len(word) > 1]\n",
    "        training_data.append(x)\n",
    "\n",
    "    return training_data\n",
    "\n",
    "\n",
    "def prepare_data_for_training(sentences,w2v):\n",
    "    data = {}\n",
    "    for sentence in sentences:\n",
    "        for word in sentence:\n",
    "            if word not in data:\n",
    "                data[word] = 1\n",
    "            else:\n",
    "                data[word] += 1\n",
    "    V = len(data)\n",
    "    data = sorted(list(data.keys()))\n",
    "    vocab = {}\n",
    "    for i in range(len(data)):\n",
    "        vocab[data[i]] = i\n",
    "\n",
    "    #for i in range(len(words)):\n",
    "    for sentence in sentences:\n",
    "        for i in range(len(sentence)):\n",
    "            center_word = [0 for x in range(V)]\n",
    "            center_word[vocab[sentence[i]]] = 1\n",
    "            context = [0 for x in range(V)]\n",
    "\n",
    "            for j in range(i-w2v.window_size,i+w2v.window_size):\n",
    "                if i!=j and j>=0 and j<len(sentence):\n",
    "                    context[vocab[sentence[j]]] += 1\n",
    "            w2v.X_train.append(center_word)\n",
    "            w2v.y_train.append(context)\n",
    "    w2v.initialize(V,data)\n",
    "\n",
    "    return w2v.X_train,w2v.y_train"
   ]
  },
  {
   "cell_type": "code",
   "execution_count": null,
   "metadata": {
    "colab": {
     "base_uri": "https://localhost:8080/"
    },
    "id": "zZBBqP0bEWn8",
    "outputId": "89fc96f4-3519-476f-e4bf-57ae1b8309d6"
   },
   "outputs": [],
   "source": [
    "epochs = 10\n",
    "\n",
    "training_data = preprocessing(corpus)\n",
    "w2v = word2vec()\n",
    "\n",
    "prepare_data_for_training(training_data,w2v)\n",
    "w2v.train(epochs)"
   ]
  },
  {
   "cell_type": "code",
   "execution_count": null,
   "metadata": {
    "colab": {
     "base_uri": "https://localhost:8080/"
    },
    "id": "N4Cy2EQCtCQx",
    "outputId": "ef9ce4d1-6870-4fb5-948f-5bbf95ae278c"
   },
   "outputs": [],
   "source": [
    "print(w2v.predict(\"강아지\",10))"
   ]
  },
  {
   "cell_type": "code",
   "execution_count": null,
   "metadata": {
    "colab": {
     "base_uri": "https://localhost:8080/"
    },
    "id": "rK8xHnXNr0w9",
    "outputId": "415b7885-3c4c-40de-8ee6-cfcbd3946f6e"
   },
   "outputs": [],
   "source": [
    "training_data"
   ]
  },
  {
   "cell_type": "code",
   "execution_count": null,
   "metadata": {
    "id": "HREkrOQO0u0-"
   },
   "outputs": [],
   "source": []
  }
 ],
 "metadata": {
  "colab": {
   "authorship_tag": "ABX9TyMjiHf1jf6/QUyT0g3h7689",
   "gpuType": "V100",
   "include_colab_link": true,
   "mount_file_id": "1vvMjOLADhRBJ20vwhiH3IufE8qc-9qOQ",
   "provenance": []
  },
  "kernelspec": {
   "display_name": "Python 3 (ipykernel)",
   "language": "python",
   "name": "python3"
  },
  "language_info": {
   "codemirror_mode": {
    "name": "ipython",
    "version": 3
   },
   "file_extension": ".py",
   "mimetype": "text/x-python",
   "name": "python",
   "nbconvert_exporter": "python",
   "pygments_lexer": "ipython3",
   "version": "3.9.13"
  }
 },
 "nbformat": 4,
 "nbformat_minor": 4
}
