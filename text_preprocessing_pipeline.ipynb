{
  "nbformat": 4,
  "nbformat_minor": 0,
  "metadata": {
    "colab": {
      "provenance": [],
      "authorship_tag": "ABX9TyPFYRkimwkTTIyVdCshL4MA",
      "include_colab_link": true
    },
    "kernelspec": {
      "name": "python3",
      "display_name": "Python 3"
    },
    "language_info": {
      "name": "python"
    }
  },
  "cells": [
    {
      "cell_type": "markdown",
      "metadata": {
        "id": "view-in-github",
        "colab_type": "text"
      },
      "source": [
        "<a href=\"https://colab.research.google.com/github/Tiabet/Project_Market/blob/master/text_preprocessing_pipeline.ipynb\" target=\"_parent\"><img src=\"https://colab.research.google.com/assets/colab-badge.svg\" alt=\"Open In Colab\"/></a>"
      ]
    },
    {
      "cell_type": "code",
      "execution_count": null,
      "metadata": {
        "id": "LzxYZZRE5u_w"
      },
      "outputs": [],
      "source": [
        "import unicodedata\n",
        "import pandas as pd\n",
        "from hanspell import spell_checker\n",
        "import re\n",
        "import sys\n",
        "\n",
        "def normalize_unicode(text):\n",
        "    return unicodedata.normalize('NFKC', text)\n",
        "\n",
        "def correct_spelling(text):\n",
        "    spelled_sent = spell_checker.check(text)\n",
        "    return spelled_sent.checked\n",
        "\n",
        "def apply_regex(text):\n",
        "    text = re.sub(r'[ㄱ-ㅎㅏ-ㅣ0-9]+', '', text)\n",
        "    text = re.sub('ᄒᄒ', '', text)\n",
        "    text = re.sub('[-=+,#/\\?:^.@*\\\"※~ㆍ!』‘|\\[\\]`\\'…》\\”\\“\\’·]', ' ', text)\n",
        "    text = re.sub(r'[a-zA-Z]{1,2}', '', text)\n",
        "    text = re.sub(r'\\s{2,}|\\t', ' ', text)\n",
        "    return text\n",
        "\n",
        "def preprocess_file(input_filename, output_filename):\n",
        "    df = pd.read_csv(input_filename, sep='\\t')  # TSV 파일이므로 sep='\\t'로 설정\n",
        "\n",
        "    preprocessing_pipeline = Pipeline([\n",
        "        ('normalize_unicode', lambda x: x.apply(normalize_unicode)),\n",
        "        ('correct_spelling', lambda x: x.apply(correct_spelling)),\n",
        "        ('correct_spelling', lambda x: x.apply(correct_spelling))\n",
        "        ('apply_regex', lambda x: x.apply(apply_regex))\n",
        "    ])\n",
        "\n",
        "    df_preprocessed = preprocessing_pipeline.transform(df['review'])\n",
        "    df['review'] = df_preprocessed\n",
        "    df.to_csv(output_filename, sep='\\t', index=False)  # TSV 파일로 저장하기 위해 sep='\\t' 추가\n",
        "\n",
        "if __name__ == \"__main__\":\n",
        "    if len(sys.argv) != 3:\n",
        "        print(\"Usage: python preprocessing_script.py input.tsv output_preprocessed.tsv\")\n",
        "    else:\n",
        "        input_filename = sys.argv[1]\n",
        "        output_filename = sys.argv[2]\n",
        "        preprocess_file(input_filename, output_filename)\n"
      ]
    }
  ]
}