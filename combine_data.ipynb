{
 "cells": [
  {
   "cell_type": "code",
   "execution_count": null,
   "id": "2052f2d2-7639-4639-ae9e-eaaba8f311b9",
   "metadata": {},
   "outputs": [],
   "source": [
    "import os\n",
    "import pandas as pd\n",
    "import argparse\n",
    "\n",
    "def combine(folder_path):\n",
    "    tsv_files = [file for file in os.listdir(folder_path) if file.endswith('.tsv')]\n",
    "    combined_data = pd.concat([pd.read_csv(os.path.join(folder_path, file), sep='\\t') for file in tsv_files], ignore_index=True)\n",
    "    combined_data.to_csv(folder_path+'.tsv', sep='\\t', index=False)\n",
    "\n",
    "    \n",
    "if __name__ == \"__main__\":\n",
    "    parser = argparse.ArgumentParser(description=\"데이터가 들어있는 파일들을 하나로 병합합니다\")\n",
    "    parser.add_argument(\"input_folder\", help=\"병합할 파일들이 있는 폴더명을 입력하세요.\")\n",
    "    \n",
    "    args = parser.parse_args()\n",
    "    \n",
    "    folder_name = args.input_folder\n",
    "    combine(folder_name)"
   ]
  }
 ],
 "metadata": {
  "kernelspec": {
   "display_name": "Python 3 (ipykernel)",
   "language": "python",
   "name": "python3"
  },
  "language_info": {
   "codemirror_mode": {
    "name": "ipython",
    "version": 3
   },
   "file_extension": ".py",
   "mimetype": "text/x-python",
   "name": "python",
   "nbconvert_exporter": "python",
   "pygments_lexer": "ipython3",
   "version": "3.9.13"
  }
 },
 "nbformat": 4,
 "nbformat_minor": 5
}
