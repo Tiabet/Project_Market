{
 "cells": [
  {
   "cell_type": "code",
   "execution_count": 13,
   "id": "32933d6a-c525-422d-b42b-81923f4a8b77",
   "metadata": {},
   "outputs": [
    {
     "name": "stdout",
     "output_type": "stream",
     "text": [
      "강아지옷\\274596482.tsv\n",
      "강아지옷\\274596482.tsv의 리뷰를 전처리 중입니다...\n",
      "리뷰 개수 : 406\n",
      "Normalizing Unicode\n",
      "Applying Regex\n",
      "Correcting Spelling\n",
      "저장이 완료되었습니다.\n",
      "강아지옷\\296084009.tsv\n",
      "강아지옷\\296084009.tsv의 리뷰를 전처리 중입니다...\n",
      "리뷰 개수 : 429\n",
      "Normalizing Unicode\n",
      "Applying Regex\n",
      "Correcting Spelling\n",
      "저장이 완료되었습니다.\n",
      "강아지옷\\332447656.tsv\n",
      "강아지옷\\332447656.tsv의 리뷰를 전처리 중입니다...\n",
      "리뷰 개수 : 503\n",
      "Normalizing Unicode\n",
      "Applying Regex\n",
      "Correcting Spelling\n",
      "저장이 완료되었습니다.\n"
     ]
    }
   ],
   "source": [
    "!python text_preprocessing_pipeline.py 강아지옷"
   ]
  },
  {
   "cell_type": "code",
   "execution_count": 18,
   "id": "2e6abc79-7251-42c8-ade8-1e8eedece523",
   "metadata": {},
   "outputs": [],
   "source": [
    "!python combine_data.py 강아지옷_preprocessed"
   ]
  },
  {
   "cell_type": "code",
   "execution_count": null,
   "id": "38fb997b-f290-426c-b45e-469620a6cb15",
   "metadata": {},
   "outputs": [],
   "source": []
  }
 ],
 "metadata": {
  "kernelspec": {
   "display_name": "Python 3 (ipykernel)",
   "language": "python",
   "name": "python3"
  },
  "language_info": {
   "codemirror_mode": {
    "name": "ipython",
    "version": 3
   },
   "file_extension": ".py",
   "mimetype": "text/x-python",
   "name": "python",
   "nbconvert_exporter": "python",
   "pygments_lexer": "ipython3",
   "version": "3.9.13"
  }
 },
 "nbformat": 4,
 "nbformat_minor": 5
}
