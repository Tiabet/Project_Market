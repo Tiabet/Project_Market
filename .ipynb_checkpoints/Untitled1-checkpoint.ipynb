{
 "cells": [
  {
   "cell_type": "code",
   "execution_count": 2,
   "id": "d692b876-05cb-4148-937e-858342ed14ee",
   "metadata": {},
   "outputs": [],
   "source": [
    "str = 'asbdsfasdg123'"
   ]
  },
  {
   "cell_type": "code",
   "execution_count": 6,
   "id": "79cb81be-d9fe-4e13-8d02-5f283a32d1a7",
   "metadata": {},
   "outputs": [
    {
     "data": {
      "text/plain": [
       "'asbdsfasdg456123'"
      ]
     },
     "execution_count": 6,
     "metadata": {},
     "output_type": "execute_result"
    }
   ],
   "source": [
    "str[:-3] + '456' +str[-3:]"
   ]
  },
  {
   "cell_type": "code",
   "execution_count": null,
   "id": "2129312c-3161-4498-b80c-c7b0203f3318",
   "metadata": {},
   "outputs": [],
   "source": []
  }
 ],
 "metadata": {
  "kernelspec": {
   "display_name": "Python 3 (ipykernel)",
   "language": "python",
   "name": "python3"
  },
  "language_info": {
   "codemirror_mode": {
    "name": "ipython",
    "version": 3
   },
   "file_extension": ".py",
   "mimetype": "text/x-python",
   "name": "python",
   "nbconvert_exporter": "python",
   "pygments_lexer": "ipython3",
   "version": "3.9.13"
  }
 },
 "nbformat": 4,
 "nbformat_minor": 5
}
