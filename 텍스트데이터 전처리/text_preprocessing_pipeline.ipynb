{
 "cells": [
  {
   "cell_type": "markdown",
   "metadata": {
    "colab_type": "text",
    "id": "view-in-github"
   },
   "source": [
    "<a href=\"https://colab.research.google.com/github/Tiabet/Project_Market/blob/master/text_preprocessing_pipeline.ipynb\" target=\"_parent\"><img src=\"https://colab.research.google.com/assets/colab-badge.svg\" alt=\"Open In Colab\"/></a>"
   ]
  },
  {
   "cell_type": "code",
   "execution_count": null,
   "metadata": {
    "id": "LzxYZZRE5u_w"
   },
   "outputs": [],
   "source": [
    "import unicodedata\n",
    "import pandas as pd\n",
    "from hanspell import spell_checker\n",
    "import re\n",
    "import sys\n",
    "from sklearn.pipeline import Pipeline\n",
    "\n",
    "def normalize_unicode(text):\n",
    "    return unicodedata.normalize('NFKC', text)\n",
    "\n",
    "def correct_spelling(text):\n",
    "    spelled_sent = spell_checker.check(text)\n",
    "    return spelled_sent.checked\n",
    "\n",
    "def apply_regex(text):\n",
    "    only_BMP_pattern = re.compile(\"[\"\n",
    "        u\"\\U00010000-\\U0010FFFF\"\n",
    "                           \"]+\", flags=re.UNICODE)\n",
    "    text = only_BMP_pattern.sub(r'', text)\n",
    "    text = re.sub(r'[ㄱ-ㅎㅏ-ㅣ0-9]+', '', text)\n",
    "    text = re.sub('ᄒ+', '', text)\n",
    "    text = re.sub('[ෆ⃛❤❤❤♥♡】૮₍˶•⑅₎ა]', '', text)\n",
    "    text = re.sub('[-=+,#/\\?^.@*\\\";※~ㆍ!』‘|\\<\\>\\[\\]\\_`\\'…》\\”\\“\\’·]', ' ', text)\n",
    "    text = re.sub(r':[)D]|:[(]','', text)\n",
    "    text = re.sub(r':','', text)\n",
    "    text = re.sub(r'[a-zA-Z]{1,2}', '', text)\n",
    "    text = re.sub(r'\\s{2,}|\\t', ' ', text)\n",
    "    return text\n",
    "\n",
    "def preprocess_file(input_filename, output_filename):\n",
    "    df = pd.read_csv(input_filename, sep='\\t')\n",
    "\n",
    "    preprocessing_pipeline = Pipeline([\n",
    "        ('normalize_unicode', lambda x: x.apply(normalize_unicode)),\n",
    "        ('correct_spelling', lambda x: x.apply(correct_spelling)),\n",
    "        ('apply_regex', lambda x: x.apply(apply_regex)),\n",
    "        ('correct_spelling', lambda x: x.apply(correct_spelling))\n",
    "    ])\n",
    "\n",
    "    df_preprocessed = preprocessing_pipeline.transform(df['review'])\n",
    "    df['review'] = df_preprocessed\n",
    "    df.to_csv(output_filename, sep='\\t', index=False)\n",
    "\n",
    "if __name__ == \"__main__\":\n",
    "    if len(sys.argv) != 3:\n",
    "        print(\"Usage: python preprocessing_script.py input.tsv output_preprocessed.tsv\")\n",
    "    else:\n",
    "        input_filename = sys.argv[1]\n",
    "        output_filename = sys.argv[2]\n",
    "        preprocess_file(input_filename, output_filename)\n"
   ]
  },
  {
   "cell_type": "code",
   "execution_count": null,
   "metadata": {
    "id": "HYsuucuMIAy6"
   },
   "outputs": [],
   "source": []
  }
 ],
 "metadata": {
  "colab": {
   "authorship_tag": "ABX9TyNMJMdi8Sgllo9R23zEBpSb",
   "include_colab_link": true,
   "provenance": []
  },
  "kernelspec": {
   "display_name": "Python 3 (ipykernel)",
   "language": "python",
   "name": "python3"
  },
  "language_info": {
   "codemirror_mode": {
    "name": "ipython",
    "version": 3
   },
   "file_extension": ".py",
   "mimetype": "text/x-python",
   "name": "python",
   "nbconvert_exporter": "python",
   "pygments_lexer": "ipython3",
   "version": "3.9.13"
  }
 },
 "nbformat": 4,
 "nbformat_minor": 4
}
