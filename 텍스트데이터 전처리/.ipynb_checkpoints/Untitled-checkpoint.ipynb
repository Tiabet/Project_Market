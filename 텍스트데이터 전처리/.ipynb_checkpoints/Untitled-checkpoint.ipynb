{
 "cells": [
  {
   "cell_type": "code",
   "execution_count": 50,
   "id": "7c3e65fa-7873-4b15-8bf6-8c7a558e4841",
   "metadata": {},
   "outputs": [],
   "source": [
    "import re\n",
    "\n",
    "text = ':('\n",
    "text = re.sub(r':\\s?[\\)D]|:\\s?\\(', '', text)"
   ]
  },
  {
   "cell_type": "code",
   "execution_count": 51,
   "id": "35016f97-da1a-4b56-b7e1-1122f3875fcb",
   "metadata": {},
   "outputs": [
    {
     "data": {
      "text/plain": [
       "''"
      ]
     },
     "execution_count": 51,
     "metadata": {},
     "output_type": "execute_result"
    }
   ],
   "source": [
    "text"
   ]
  },
  {
   "cell_type": "code",
   "execution_count": 58,
   "id": "bf89c851-057f-4da6-a865-01ee574fcde1",
   "metadata": {},
   "outputs": [],
   "source": [
    "text = '가나다(마바)'\n",
    "text = re.sub(r'[ 가-힣a-zA-Z\\(\\):]','',text)"
   ]
  },
  {
   "cell_type": "code",
   "execution_count": 59,
   "id": "65cc1097-25e6-4c39-83cc-94dcb9d3eaf9",
   "metadata": {},
   "outputs": [
    {
     "data": {
      "text/plain": [
       "''"
      ]
     },
     "execution_count": 59,
     "metadata": {},
     "output_type": "execute_result"
    }
   ],
   "source": [
    "text"
   ]
  },
  {
   "cell_type": "code",
   "execution_count": null,
   "id": "1c03dbee-0b88-4a8a-b90b-4129cadfbd73",
   "metadata": {},
   "outputs": [],
   "source": []
  }
 ],
 "metadata": {
  "kernelspec": {
   "display_name": "Python 3 (ipykernel)",
   "language": "python",
   "name": "python3"
  },
  "language_info": {
   "codemirror_mode": {
    "name": "ipython",
    "version": 3
   },
   "file_extension": ".py",
   "mimetype": "text/x-python",
   "name": "python",
   "nbconvert_exporter": "python",
   "pygments_lexer": "ipython3",
   "version": "3.9.13"
  }
 },
 "nbformat": 4,
 "nbformat_minor": 5
}
