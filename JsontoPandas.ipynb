{
 "cells": [
  {
   "cell_type": "code",
   "execution_count": 70,
   "id": "955e8e6b-807f-4dd4-9906-d731a906cfe8",
   "metadata": {},
   "outputs": [],
   "source": [
    "import os\n",
    "import json\n",
    "import pandas as pd\n",
    "\n",
    "main_folder_path = '데이터/1.Training/라벨링데이터/TL1'\n",
    "\n",
    "original = []\n",
    "summary = []\n",
    "    \n",
    "for root, dirs, files in os.walk(main_folder_path): #하위폴더들을 모두 탐색하는 walk\n",
    "    if root.endswith('20per') :\n",
    "        for file in files:\n",
    "            if file.endswith('.json'): \n",
    "                file_path = os.path.join(root, file)\n",
    "                with open(file_path, 'r', encoding = 'utf-8') as json_file:\n",
    "                    json_data = json.load(json_file)\n",
    "                    original.append(json_data[\"Meta(Refine)\"][\"passage\"])\n",
    "                    if json_data['Annotation']['summary3'] is not None:\n",
    "                        summary.append(json_data['Annotation']['summary3'])\n",
    "                \n",
    "\n",
    "                \n",
    "df = pd.DataFrame({'original' : original, 'summary' : summary})"
   ]
  },
  {
   "cell_type": "code",
   "execution_count": 73,
   "id": "076195d3-cb65-47fd-9372-12e41d6db753",
   "metadata": {},
   "outputs": [
    {
     "data": {
      "text/plain": [
       "original    0\n",
       "summary     0\n",
       "dtype: int64"
      ]
     },
     "execution_count": 73,
     "metadata": {},
     "output_type": "execute_result"
    }
   ],
   "source": [
    "df.isnull().sum(axis=0) #null값 없음"
   ]
  },
  {
   "cell_type": "code",
   "execution_count": 81,
   "id": "78820487-6292-44f0-aff9-4d30c0068012",
   "metadata": {},
   "outputs": [
    {
     "data": {
      "text/html": [
       "<div>\n",
       "<style scoped>\n",
       "    .dataframe tbody tr th:only-of-type {\n",
       "        vertical-align: middle;\n",
       "    }\n",
       "\n",
       "    .dataframe tbody tr th {\n",
       "        vertical-align: top;\n",
       "    }\n",
       "\n",
       "    .dataframe thead th {\n",
       "        text-align: right;\n",
       "    }\n",
       "</style>\n",
       "<table border=\"1\" class=\"dataframe\">\n",
       "  <thead>\n",
       "    <tr style=\"text-align: right;\">\n",
       "      <th></th>\n",
       "      <th>original</th>\n",
       "      <th>summary</th>\n",
       "    </tr>\n",
       "  </thead>\n",
       "  <tbody>\n",
       "    <tr>\n",
       "      <th>count</th>\n",
       "      <td>72571</td>\n",
       "      <td>72571</td>\n",
       "    </tr>\n",
       "    <tr>\n",
       "      <th>unique</th>\n",
       "      <td>72571</td>\n",
       "      <td>72571</td>\n",
       "    </tr>\n",
       "    <tr>\n",
       "      <th>top</th>\n",
       "      <td>40억 달러 ‘딜’ 주인공 김봉진 우아한형제들 대표태풍 뒤의 고요함이랄까.\\n  4...</td>\n",
       "      <td>독일계 음식 배달서비스업체 DH(딜리버리 히어로)가 평가한 우아한형제들의 기업가치는...</td>\n",
       "    </tr>\n",
       "    <tr>\n",
       "      <th>freq</th>\n",
       "      <td>1</td>\n",
       "      <td>1</td>\n",
       "    </tr>\n",
       "  </tbody>\n",
       "</table>\n",
       "</div>"
      ],
      "text/plain": [
       "                                                 original  \\\n",
       "count                                               72571   \n",
       "unique                                              72571   \n",
       "top     40억 달러 ‘딜’ 주인공 김봉진 우아한형제들 대표태풍 뒤의 고요함이랄까.\\n  4...   \n",
       "freq                                                    1   \n",
       "\n",
       "                                                  summary  \n",
       "count                                               72571  \n",
       "unique                                              72571  \n",
       "top     독일계 음식 배달서비스업체 DH(딜리버리 히어로)가 평가한 우아한형제들의 기업가치는...  \n",
       "freq                                                    1  "
      ]
     },
     "execution_count": 81,
     "metadata": {},
     "output_type": "execute_result"
    }
   ],
   "source": [
    "df = df.drop_duplicates(subset = ['original','summary']) #중복값 제거\n",
    "df.describe()"
   ]
  },
  {
   "cell_type": "code",
   "execution_count": 84,
   "id": "910a216a-c450-41a3-b1e2-5f6245810960",
   "metadata": {},
   "outputs": [],
   "source": [
    "import re\n",
    "\n",
    "def preprocess_text(text):\n",
    "    text = re.sub('\\n',' ',text)\n",
    "    text = re.sub(r'\\s+', ' ', text)\n",
    "    return text\n",
    "\n",
    "df['original'] = df['original'].apply(preprocess_text)\n",
    "df.to_csv('train.tsv',encoding = 'utf-8',index = False, sep = '\\t', errors='ignore')"
   ]
  },
  {
   "cell_type": "code",
   "execution_count": null,
   "id": "396d346a-08d6-4a96-a5c7-b066fcd8304c",
   "metadata": {},
   "outputs": [],
   "source": []
  }
 ],
 "metadata": {
  "kernelspec": {
   "display_name": "Python 3 (ipykernel)",
   "language": "python",
   "name": "python3"
  },
  "language_info": {
   "codemirror_mode": {
    "name": "ipython",
    "version": 3
   },
   "file_extension": ".py",
   "mimetype": "text/x-python",
   "name": "python",
   "nbconvert_exporter": "python",
   "pygments_lexer": "ipython3",
   "version": "3.9.13"
  }
 },
 "nbformat": 4,
 "nbformat_minor": 5
}
